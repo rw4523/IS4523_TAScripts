{
 "cells": [
  {
   "cell_type": "code",
   "execution_count": 3,
   "metadata": {},
   "outputs": [
    {
     "name": "stdout",
     "output_type": "stream",
     "text": [
      "Enter name of Quiz .xlsx file (example: Module 1 Quiz.xlsx): Module 1 Quiz.xlsx\n",
      "What row is 'Quiz Questions' located on: 19\n"
     ]
    }
   ],
   "source": [
    "import pandas as pd\n",
    "from pathlib import Path\n",
    "\n",
    "# specifying which xlsx file to use\n",
    "directory = 'C:\\\\Users\\\\*username*\\\\Desktop\\\\*DirectoryWithExcel*\\\\'              # Should probably add tkinter to this..\n",
    "file_name = input('Enter name of Quiz .xlsx file (example: Module 1 Quiz.xlsx): ')\n",
    "\n",
    "if not '.xlsx' in file_name:\n",
    "    file_name = file_name + '.xlsx'\n",
    "\n",
    "# Will re-prompt until a valid file is entered\n",
    "while not Path(directory + file_name).is_file():\n",
    "    print('\\n' + file_name + ' does not exist')\n",
    "    file_name = input('Enter name of Quiz .xlsx file (example: Module 1 Quiz.xlsx) or EXIT to quit: ')\n",
    "    if 'EXIT' in file_name:\n",
    "        break\n",
    "    elif not '.xlsx' in file_name:\n",
    "        file_name = file_name + '.xlsx'\n",
    "    \n",
    "\n",
    "rowNum = input('What row is \\'Quiz Questions\\' located on: ')\n",
    "while not rowNum.isdigit():\n",
    "    print('\\nIntegers only')\n",
    "    rowNum = input('What row is \\'Quiz Questions\\' located on: ')"
   ]
  },
  {
   "cell_type": "code",
   "execution_count": 4,
   "metadata": {},
   "outputs": [
    {
     "name": "stdout",
     "output_type": "stream",
     "text": [
      "Enter questions missed: 5,8,9,10,13,14,15,16\n",
      "\n",
      "The questions missed pertain to the following learning objectives. \n",
      "In parentheses after each learning objective is specific course material that would \n",
      "be good to study to better understand the respective learning objective, pertaining to questions missed.\n",
      "\n",
      "\n",
      " -- (1.B VSC Demo Videos.pptx - slide 3)  \n",
      " -- (Key Points_VSC Analysis.pdf)  \n",
      "\n",
      "List and access VSCs on operating system and other volumes on a live system (A)\n",
      " -- (1.B VSC Demo Videos.pptx - slide 3)  \n",
      "\n",
      "Draw conclusions and assess chronology regarding file modifications via VSC data (A)\n",
      " -- (1.B VSC Demo Videos.pptx - slide 3)  \n",
      "\n",
      "Explain the basic functionality (OS purpose/scope) of volume shadow copy service (VSS) (D, FI)\n",
      " -- (1.A _Slides_OS Artifacts - Windows.pptx - slide 10)  \n",
      "\n",
      "Explain the basic functionality (OS purpose/scope) of volume shadow copy service (VSS) (D, FI)\n",
      " -- (Key Points_VSC Analysis.pdf)  \n",
      "\n",
      "Draw conclusions and assess chronology regarding file modifications via VSC data (A)\n",
      " -- (1.B VSC Demo Videos.pptx - slide 3)  \n",
      "\n",
      "Explain how to determine VSS configurations (A)\n",
      " -- (Carvey pg 52-53)  \n",
      "\n",
      "Compare VSS with old Restore Point service (D, FI)\n",
      " -- (Carvey pg 50)  \n",
      "\n"
     ]
    }
   ],
   "source": [
    "rowNum = int(rowNum)\n",
    "# df_obj = Learning objectives | df_q = Quiz Questions\n",
    "df_obj = pd.read_excel(directory + file_name, skiprows=1, header=None)\n",
    "df_q   = pd.read_excel(directory + file_name, skiprows=rowNum)\n",
    "\n",
    "# --- Code below for assembling the feedback ---\n",
    "\n",
    "# selecting first 2 columns and between rows 2 and whever the NaN starts-1\n",
    "df_obj = df_obj.iloc[:, 0:2]\n",
    "df_obj.columns = ['Symbol', 'Content']\n",
    "# rowNum = min(df_obj[df_obj['Symbol'].isnull()].index)\n",
    "df_obj = df_obj.iloc[0:rowNum, :] \n",
    "df_obj = df_obj.dropna(subset=['Content'])\n",
    "\n",
    "# df_qq = Quiz Questions, matches to learning Objectives\n",
    "df_qq = df_q[['#', 'LO', 'Ans. Loc.']]\n",
    "df_qq.columns = ['Question Number', 'LO', 'Answer Location']\n",
    "\n",
    "# prompt for questions missed, stored as an integer list\n",
    "missed = input('Enter questions missed: ').split(',')\n",
    "missed = [int(i) for i in missed]\n",
    "\n",
    "# instruction message to students\n",
    "print('\\nThe questions missed pertain to the following learning objectives. \\n' +\n",
    "      'In parentheses after each learning objective is specific course material that would \\nbe good to study ' +\n",
    "      'to better understand the respective learning objective, pertaining to questions missed.\\n') # new line\n",
    "\n",
    "'''\n",
    "    found       : search value in df_qq\n",
    "    quiz_lo     : lists found(df_qq) for LO column as String\n",
    "    ans_loc     : lists found(df_qq) for Answer Location column as String\n",
    "                    (location of each answer section)\n",
    "    learn_obj   : search Symbol column for quiz_lo\n",
    "    c_obj       : lists learn_obj(df_obj) for Content column as string\n",
    "                    (content title)\n",
    "'''\n",
    "\n",
    "for i in range(len(missed)):\n",
    "    found = df_qq[df_qq['Question Number'] == missed[i]]\n",
    "    quiz_lo = str(found['LO'].tolist()).replace('\\'', '').replace('[', '').replace(']', '') # ['A1'] --> A1\n",
    "    ans_loc = str(found['Answer Location'].tolist()).replace('\\'', '').replace('[', '').replace(']', '')\n",
    "    \n",
    "    # in case of multiple answer locations, print them all\n",
    "    ans_loc = ans_loc.split(' // ')\n",
    "    ans = ''\n",
    "    for x in range(len(ans_loc)):\n",
    "        ans += ' -- (' + str(ans_loc[x]) + ')  \\n'\n",
    "\n",
    "    learn_obj = df_obj[df_obj['Symbol'] == quiz_lo]\n",
    "    c_obj = str(learn_obj['Content'].tolist()).replace('\\'', '').replace('[', '').replace(']', '') # ['A1'] --> A1\n",
    "    print(str(c_obj) + '\\n' + ans)\n",
    "\n",
    "# FORMAT\n",
    "#     c_obj [learning objective]\n",
    "#      -- ( ans [contents, Ans. Loc])\n",
    "    \n",
    "#     c_obj (learning objective)\n",
    "#      -- ( ans (contents, Ans. Loc))"
   ]
  },
  {
   "cell_type": "code",
   "execution_count": null,
   "metadata": {},
   "outputs": [],
   "source": []
  }
 ],
 "metadata": {
  "kernelspec": {
   "display_name": "Python 3",
   "language": "python",
   "name": "python3"
  },
  "language_info": {
   "codemirror_mode": {
    "name": "ipython",
    "version": 3
   },
   "file_extension": ".py",
   "mimetype": "text/x-python",
   "name": "python",
   "nbconvert_exporter": "python",
   "pygments_lexer": "ipython3",
   "version": "3.7.3"
  }
 },
 "nbformat": 4,
 "nbformat_minor": 2
}
